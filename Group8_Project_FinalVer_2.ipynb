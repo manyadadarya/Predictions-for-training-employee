{
 "cells": [
  {
   "cell_type": "markdown",
   "metadata": {},
   "source": [
    "## Group 8 - HR Analytics: Job Change of Data Scientists "
   ]
  },
  {
   "cell_type": "markdown",
   "metadata": {},
   "source": [
    "### Importing Necessary libraries"
   ]
  },
  {
   "cell_type": "code",
   "execution_count": 21,
   "metadata": {},
   "outputs": [],
   "source": [
    "##Importing Libraries\n",
    "\n",
    "%matplotlib inline \n",
    "import numpy as np\n",
    "import matplotlib as mpl\n",
    "import matplotlib.pyplot as plt\n",
    "import pandas as pd\n",
    "import seaborn as sns\n",
    "from sklearn.model_selection import train_test_split\n",
    "from sklearn.metrics import classification_report\n",
    "from sklearn import metrics\n",
    "mpl.style.use('ggplot')"
   ]
  },
  {
   "cell_type": "markdown",
   "metadata": {},
   "source": [
    "The dataset is contatining details about the people who signedup for data science training courses with the company and wants to work for the company after training or looking for a new employment. The file <b>aug_train.csv</b> is our training dataset which contains 19K records of people who signed up for training and might be looking for a employment change\n",
    "\n",
    "| Field          | Description                                                                           |\n",
    "|----------------|---------------------------------------------------------------------------------------|\n",
    "|enrollee_id|Unique ID for candidate|\n",
    "|city|City code|\n",
    "|city_development_index|Developement index of the city (scaled)|\n",
    "|gender|Gender of candidate|\n",
    "|relevent_experience|Relevant experience of candidate|\n",
    "|enrolled_university|Type of University course enrolled if any|\n",
    "|education_level|Education level of candidate|\n",
    "|major_discipline|Education major discipline of candidate|\n",
    "|experience|Candidate total experience in years|\n",
    "|company_size|No of employees in current employer's company|\n",
    "|company_type|Type of current employer|\n",
    "|lastnewjob|Difference in years between previous job and current job|\n",
    "|training_hours|training hours completed|\n",
    "|target|0 – Not looking for job change, 1 – Looking for a job change|"
   ]
  },
  {
   "cell_type": "markdown",
   "metadata": {},
   "source": [
    "### Importing Training and Testing Datasets from csv"
   ]
  },
  {
   "cell_type": "code",
   "execution_count": 22,
   "metadata": {},
   "outputs": [
    {
     "data": {
      "text/html": [
       "<div>\n",
       "<style scoped>\n",
       "    .dataframe tbody tr th:only-of-type {\n",
       "        vertical-align: middle;\n",
       "    }\n",
       "\n",
       "    .dataframe tbody tr th {\n",
       "        vertical-align: top;\n",
       "    }\n",
       "\n",
       "    .dataframe thead th {\n",
       "        text-align: right;\n",
       "    }\n",
       "</style>\n",
       "<table border=\"1\" class=\"dataframe\">\n",
       "  <thead>\n",
       "    <tr style=\"text-align: right;\">\n",
       "      <th></th>\n",
       "      <th>enrollee_id</th>\n",
       "      <th>city</th>\n",
       "      <th>city_development_index</th>\n",
       "      <th>gender</th>\n",
       "      <th>relevent_experience</th>\n",
       "      <th>enrolled_university</th>\n",
       "      <th>education_level</th>\n",
       "      <th>major_discipline</th>\n",
       "      <th>experience</th>\n",
       "      <th>company_size</th>\n",
       "      <th>company_type</th>\n",
       "      <th>last_new_job</th>\n",
       "      <th>training_hours</th>\n",
       "      <th>target</th>\n",
       "    </tr>\n",
       "  </thead>\n",
       "  <tbody>\n",
       "    <tr>\n",
       "      <th>0</th>\n",
       "      <td>8949</td>\n",
       "      <td>city_103</td>\n",
       "      <td>0.920</td>\n",
       "      <td>Male</td>\n",
       "      <td>Has relevent experience</td>\n",
       "      <td>no_enrollment</td>\n",
       "      <td>Graduate</td>\n",
       "      <td>STEM</td>\n",
       "      <td>&gt;20</td>\n",
       "      <td>NaN</td>\n",
       "      <td>NaN</td>\n",
       "      <td>1</td>\n",
       "      <td>36</td>\n",
       "      <td>1.0</td>\n",
       "    </tr>\n",
       "    <tr>\n",
       "      <th>1</th>\n",
       "      <td>29725</td>\n",
       "      <td>city_40</td>\n",
       "      <td>0.776</td>\n",
       "      <td>Male</td>\n",
       "      <td>No relevent experience</td>\n",
       "      <td>no_enrollment</td>\n",
       "      <td>Graduate</td>\n",
       "      <td>STEM</td>\n",
       "      <td>15</td>\n",
       "      <td>50-99</td>\n",
       "      <td>Pvt Ltd</td>\n",
       "      <td>&gt;4</td>\n",
       "      <td>47</td>\n",
       "      <td>0.0</td>\n",
       "    </tr>\n",
       "    <tr>\n",
       "      <th>2</th>\n",
       "      <td>11561</td>\n",
       "      <td>city_21</td>\n",
       "      <td>0.624</td>\n",
       "      <td>NaN</td>\n",
       "      <td>No relevent experience</td>\n",
       "      <td>Full time course</td>\n",
       "      <td>Graduate</td>\n",
       "      <td>STEM</td>\n",
       "      <td>5</td>\n",
       "      <td>NaN</td>\n",
       "      <td>NaN</td>\n",
       "      <td>never</td>\n",
       "      <td>83</td>\n",
       "      <td>0.0</td>\n",
       "    </tr>\n",
       "    <tr>\n",
       "      <th>3</th>\n",
       "      <td>33241</td>\n",
       "      <td>city_115</td>\n",
       "      <td>0.789</td>\n",
       "      <td>NaN</td>\n",
       "      <td>No relevent experience</td>\n",
       "      <td>NaN</td>\n",
       "      <td>Graduate</td>\n",
       "      <td>Business Degree</td>\n",
       "      <td>&lt;1</td>\n",
       "      <td>NaN</td>\n",
       "      <td>Pvt Ltd</td>\n",
       "      <td>never</td>\n",
       "      <td>52</td>\n",
       "      <td>1.0</td>\n",
       "    </tr>\n",
       "    <tr>\n",
       "      <th>4</th>\n",
       "      <td>666</td>\n",
       "      <td>city_162</td>\n",
       "      <td>0.767</td>\n",
       "      <td>Male</td>\n",
       "      <td>Has relevent experience</td>\n",
       "      <td>no_enrollment</td>\n",
       "      <td>Masters</td>\n",
       "      <td>STEM</td>\n",
       "      <td>&gt;20</td>\n",
       "      <td>50-99</td>\n",
       "      <td>Funded Startup</td>\n",
       "      <td>4</td>\n",
       "      <td>8</td>\n",
       "      <td>0.0</td>\n",
       "    </tr>\n",
       "    <tr>\n",
       "      <th>...</th>\n",
       "      <td>...</td>\n",
       "      <td>...</td>\n",
       "      <td>...</td>\n",
       "      <td>...</td>\n",
       "      <td>...</td>\n",
       "      <td>...</td>\n",
       "      <td>...</td>\n",
       "      <td>...</td>\n",
       "      <td>...</td>\n",
       "      <td>...</td>\n",
       "      <td>...</td>\n",
       "      <td>...</td>\n",
       "      <td>...</td>\n",
       "      <td>...</td>\n",
       "    </tr>\n",
       "    <tr>\n",
       "      <th>19153</th>\n",
       "      <td>7386</td>\n",
       "      <td>city_173</td>\n",
       "      <td>0.878</td>\n",
       "      <td>Male</td>\n",
       "      <td>No relevent experience</td>\n",
       "      <td>no_enrollment</td>\n",
       "      <td>Graduate</td>\n",
       "      <td>Humanities</td>\n",
       "      <td>14</td>\n",
       "      <td>NaN</td>\n",
       "      <td>NaN</td>\n",
       "      <td>1</td>\n",
       "      <td>42</td>\n",
       "      <td>1.0</td>\n",
       "    </tr>\n",
       "    <tr>\n",
       "      <th>19154</th>\n",
       "      <td>31398</td>\n",
       "      <td>city_103</td>\n",
       "      <td>0.920</td>\n",
       "      <td>Male</td>\n",
       "      <td>Has relevent experience</td>\n",
       "      <td>no_enrollment</td>\n",
       "      <td>Graduate</td>\n",
       "      <td>STEM</td>\n",
       "      <td>14</td>\n",
       "      <td>NaN</td>\n",
       "      <td>NaN</td>\n",
       "      <td>4</td>\n",
       "      <td>52</td>\n",
       "      <td>1.0</td>\n",
       "    </tr>\n",
       "    <tr>\n",
       "      <th>19155</th>\n",
       "      <td>24576</td>\n",
       "      <td>city_103</td>\n",
       "      <td>0.920</td>\n",
       "      <td>Male</td>\n",
       "      <td>Has relevent experience</td>\n",
       "      <td>no_enrollment</td>\n",
       "      <td>Graduate</td>\n",
       "      <td>STEM</td>\n",
       "      <td>&gt;20</td>\n",
       "      <td>50-99</td>\n",
       "      <td>Pvt Ltd</td>\n",
       "      <td>4</td>\n",
       "      <td>44</td>\n",
       "      <td>0.0</td>\n",
       "    </tr>\n",
       "    <tr>\n",
       "      <th>19156</th>\n",
       "      <td>5756</td>\n",
       "      <td>city_65</td>\n",
       "      <td>0.802</td>\n",
       "      <td>Male</td>\n",
       "      <td>Has relevent experience</td>\n",
       "      <td>no_enrollment</td>\n",
       "      <td>High School</td>\n",
       "      <td>NaN</td>\n",
       "      <td>&lt;1</td>\n",
       "      <td>500-999</td>\n",
       "      <td>Pvt Ltd</td>\n",
       "      <td>2</td>\n",
       "      <td>97</td>\n",
       "      <td>0.0</td>\n",
       "    </tr>\n",
       "    <tr>\n",
       "      <th>19157</th>\n",
       "      <td>23834</td>\n",
       "      <td>city_67</td>\n",
       "      <td>0.855</td>\n",
       "      <td>NaN</td>\n",
       "      <td>No relevent experience</td>\n",
       "      <td>no_enrollment</td>\n",
       "      <td>Primary School</td>\n",
       "      <td>NaN</td>\n",
       "      <td>2</td>\n",
       "      <td>NaN</td>\n",
       "      <td>NaN</td>\n",
       "      <td>1</td>\n",
       "      <td>127</td>\n",
       "      <td>0.0</td>\n",
       "    </tr>\n",
       "  </tbody>\n",
       "</table>\n",
       "<p>19158 rows × 14 columns</p>\n",
       "</div>"
      ],
      "text/plain": [
       "       enrollee_id      city  city_development_index gender  \\\n",
       "0             8949  city_103                   0.920   Male   \n",
       "1            29725   city_40                   0.776   Male   \n",
       "2            11561   city_21                   0.624    NaN   \n",
       "3            33241  city_115                   0.789    NaN   \n",
       "4              666  city_162                   0.767   Male   \n",
       "...            ...       ...                     ...    ...   \n",
       "19153         7386  city_173                   0.878   Male   \n",
       "19154        31398  city_103                   0.920   Male   \n",
       "19155        24576  city_103                   0.920   Male   \n",
       "19156         5756   city_65                   0.802   Male   \n",
       "19157        23834   city_67                   0.855    NaN   \n",
       "\n",
       "           relevent_experience enrolled_university education_level  \\\n",
       "0      Has relevent experience       no_enrollment        Graduate   \n",
       "1       No relevent experience       no_enrollment        Graduate   \n",
       "2       No relevent experience    Full time course        Graduate   \n",
       "3       No relevent experience                 NaN        Graduate   \n",
       "4      Has relevent experience       no_enrollment         Masters   \n",
       "...                        ...                 ...             ...   \n",
       "19153   No relevent experience       no_enrollment        Graduate   \n",
       "19154  Has relevent experience       no_enrollment        Graduate   \n",
       "19155  Has relevent experience       no_enrollment        Graduate   \n",
       "19156  Has relevent experience       no_enrollment     High School   \n",
       "19157   No relevent experience       no_enrollment  Primary School   \n",
       "\n",
       "      major_discipline experience company_size    company_type last_new_job  \\\n",
       "0                 STEM        >20          NaN             NaN            1   \n",
       "1                 STEM         15        50-99         Pvt Ltd           >4   \n",
       "2                 STEM          5          NaN             NaN        never   \n",
       "3      Business Degree         <1          NaN         Pvt Ltd        never   \n",
       "4                 STEM        >20        50-99  Funded Startup            4   \n",
       "...                ...        ...          ...             ...          ...   \n",
       "19153       Humanities         14          NaN             NaN            1   \n",
       "19154             STEM         14          NaN             NaN            4   \n",
       "19155             STEM        >20        50-99         Pvt Ltd            4   \n",
       "19156              NaN         <1      500-999         Pvt Ltd            2   \n",
       "19157              NaN          2          NaN             NaN            1   \n",
       "\n",
       "       training_hours  target  \n",
       "0                  36     1.0  \n",
       "1                  47     0.0  \n",
       "2                  83     0.0  \n",
       "3                  52     1.0  \n",
       "4                   8     0.0  \n",
       "...               ...     ...  \n",
       "19153              42     1.0  \n",
       "19154              52     1.0  \n",
       "19155              44     0.0  \n",
       "19156              97     0.0  \n",
       "19157             127     0.0  \n",
       "\n",
       "[19158 rows x 14 columns]"
      ]
     },
     "execution_count": 22,
     "metadata": {},
     "output_type": "execute_result"
    }
   ],
   "source": [
    "##Importing dataset and defining test and training datasets\n",
    "\n",
    "dataset_test = pd.read_csv('aug_test.csv')\n",
    "dataset_train = pd.read_csv('aug_train.csv')\n",
    "dataset_train"
   ]
  },
  {
   "cell_type": "code",
   "execution_count": 23,
   "metadata": {},
   "outputs": [
    {
     "data": {
      "text/plain": [
       "(19158, 14)"
      ]
     },
     "execution_count": 23,
     "metadata": {},
     "output_type": "execute_result"
    }
   ],
   "source": [
    "dataset_train.shape"
   ]
  },
  {
   "cell_type": "markdown",
   "metadata": {},
   "source": [
    "### Preprocessing of Data"
   ]
  },
  {
   "cell_type": "code",
   "execution_count": 24,
   "metadata": {},
   "outputs": [
    {
     "name": "stdout",
     "output_type": "stream",
     "text": [
      "enrollee_id                 int64\n",
      "city                       object\n",
      "city_development_index    float64\n",
      "gender                     object\n",
      "relevent_experience        object\n",
      "enrolled_university        object\n",
      "education_level            object\n",
      "major_discipline           object\n",
      "experience                 object\n",
      "company_size               object\n",
      "company_type               object\n",
      "last_new_job               object\n",
      "training_hours              int64\n",
      "target                    float64\n",
      "dtype: object\n"
     ]
    }
   ],
   "source": [
    "##Data Preprocessing for training data\n",
    "\n",
    "print(dataset_train.dtypes)\n",
    "\n",
    "dataset_train['city'] = dataset_train['city'].map(lambda x: x.lstrip('city_'))\n",
    "dataset_train.experience = dataset_train.experience.astype(str)\n",
    "dataset_train['experience'] = dataset_train['experience'].map(lambda x: x.lstrip('<'))\n",
    "dataset_train['experience'] = dataset_train['experience'].map(lambda x: x.lstrip('>'))\n",
    "dataset_train.loc[( dataset_train.experience == 'nan'),'experience'] = 0\n",
    "dataset_train.experience=dataset_train.experience.astype(int)\n",
    "dataset_train.last_new_job = dataset_train.last_new_job.astype(str)\n",
    "dataset_train['last_new_job'] = dataset_train['last_new_job'].map(lambda x: x.lstrip('>'))\n",
    "dataset_train['last_new_job'] = dataset_train['last_new_job'].map(lambda x: x.lstrip('<'))\n",
    "dataset_train.loc[( dataset_train.last_new_job == 'never'),'last_new_job'] = 0\n",
    "dataset_train.loc[( dataset_train.last_new_job == 'nan'),'last_new_job'] = 0"
   ]
  },
  {
   "cell_type": "markdown",
   "metadata": {},
   "source": [
    "### Exploratory Data Analysis for Data Engineering Rules Definition"
   ]
  },
  {
   "cell_type": "code",
   "execution_count": 25,
   "metadata": {},
   "outputs": [
    {
     "name": "stdout",
     "output_type": "stream",
     "text": [
      "[1136 2481 2833 2244 1782 1649  893 1272  850 4018]\n",
      "[ 0.  2.  4.  6.  8. 10. 12. 14. 16. 18. 20.]\n"
     ]
    },
    {
     "data": {
      "text/plain": [
       "<matplotlib.axes._subplots.AxesSubplot at 0x1edbd0f54c0>"
      ]
     },
     "execution_count": 25,
     "metadata": {},
     "output_type": "execute_result"
    },
    {
     "data": {
      "image/png": "[encoded data removed]",
      "text/plain": [
       "<Figure size 720x432 with 1 Axes>"
      ]
     },
     "metadata": {},
     "output_type": "display_data"
    }
   ],
   "source": [
    "count_ex, bin_edges_ex = np.histogram(dataset_train['experience'])\n",
    "print(count_ex) # frequency count\n",
    "print(bin_edges_ex) # bin ranges, default = 10 bins\n",
    "\n",
    "dataset_train['experience'].plot(kind='hist',figsize=(10,6),xticks=bin_edges_ex,alpha=1,title = \"Training set distribution across experience of participants\")"
   ]
  },
  {
   "cell_type": "code",
   "execution_count": 26,
   "metadata": {},
   "outputs": [
    {
     "name": "stdout",
     "output_type": "stream",
     "text": [
      "[7262 5169 2897 1564 1066  398  314  166  133  189]\n",
      "[  1.   34.5  68.  101.5 135.  168.5 202.  235.5 269.  302.5 336. ]\n"
     ]
    },
    {
     "data": {
      "text/plain": [
       "<matplotlib.axes._subplots.AxesSubplot at 0x1edbd7f2760>"
      ]
     },
     "execution_count": 26,
     "metadata": {},
     "output_type": "execute_result"
    },
    {
     "data": {
      "image/png": "[encoded data removed]",
      "text/plain": [
       "<Figure size 720x432 with 1 Axes>"
      ]
     },
     "metadata": {},
     "output_type": "display_data"
    }
   ],
   "source": [
    "count, bin_edges = np.histogram(dataset_train['training_hours'])\n",
    "print(count) # frequency count\n",
    "print(bin_edges) # bin ranges, default = 10 bins\n",
    "dataset_train['training_hours'].plot(kind='hist',figsize=(10,6),xticks=bin_edges,alpha=1,title = \"Training set distribution across training hours completed\")"
   ]
  },
  {
   "cell_type": "code",
   "execution_count": 27,
   "metadata": {},
   "outputs": [
    {
     "data": {
      "text/plain": [
       "experience  target\n",
       "0           0.0       0.646154\n",
       "            1.0       0.353846\n",
       "1           0.0       0.561158\n",
       "            1.0       0.438842\n",
       "2           0.0       0.668146\n",
       "            1.0       0.331854\n",
       "3           0.0       0.646972\n",
       "            1.0       0.353028\n",
       "4           0.0       0.674269\n",
       "            1.0       0.325731\n",
       "5           0.0       0.711888\n",
       "            1.0       0.288112\n",
       "6           0.0       0.717928\n",
       "            1.0       0.282072\n",
       "7           0.0       0.705253\n",
       "            1.0       0.294747\n",
       "8           0.0       0.756858\n",
       "            1.0       0.243142\n",
       "9           0.0       0.782653\n",
       "            1.0       0.217347\n",
       "10          0.0       0.789848\n",
       "            1.0       0.210152\n",
       "11          0.0       0.772590\n",
       "            1.0       0.227410\n",
       "12          0.0       0.813765\n",
       "            1.0       0.186235\n",
       "13          0.0       0.807018\n",
       "            1.0       0.192982\n",
       "14          0.0       0.817406\n",
       "            1.0       0.182594\n",
       "15          0.0       0.833819\n",
       "            1.0       0.166181\n",
       "16          0.0       0.858268\n",
       "            1.0       0.141732\n",
       "17          0.0       0.833333\n",
       "            1.0       0.166667\n",
       "18          0.0       0.846429\n",
       "            1.0       0.153571\n",
       "19          0.0       0.825658\n",
       "            1.0       0.174342\n",
       "20          0.0       0.843914\n",
       "            1.0       0.156086\n",
       "Name: target, dtype: float64"
      ]
     },
     "execution_count": 27,
     "metadata": {},
     "output_type": "execute_result"
    },
    {
     "data": {
      "image/png": "[encoded data removed]",
      "text/plain": [
       "<Figure size 414.975x360 with 1 Axes>"
      ]
     },
     "metadata": {},
     "output_type": "display_data"
    }
   ],
   "source": [
    "dataset_train.sort_values(['experience'], axis=0,inplace=True)\n",
    "sns.catplot(x='experience',kind=\"count\",hue='target',data=dataset_train)\n",
    "dataset_train.groupby(['experience'])['target'].value_counts(normalize='true')"
   ]
  },
  {
   "cell_type": "markdown",
   "metadata": {},
   "source": [
    "As evident from the graph and distribution, 84% of the participants with 20 or more years of experience were not targeted"
   ]
  },
  {
   "cell_type": "code",
   "execution_count": 28,
   "metadata": {},
   "outputs": [
    {
     "data": {
      "text/plain": [
       "education_level  target\n",
       "Graduate         0.0       0.720210\n",
       "                 1.0       0.279790\n",
       "High School      0.0       0.804660\n",
       "                 1.0       0.195340\n",
       "Masters          0.0       0.785600\n",
       "                 1.0       0.214400\n",
       "Phd              0.0       0.859903\n",
       "                 1.0       0.140097\n",
       "Primary School   0.0       0.866883\n",
       "                 1.0       0.133117\n",
       "Name: target, dtype: float64"
      ]
     },
     "execution_count": 28,
     "metadata": {},
     "output_type": "execute_result"
    },
    {
     "data": {
      "image/png": "[encoded data removed]",
      "text/plain": [
       "<Figure size 414.975x360 with 1 Axes>"
      ]
     },
     "metadata": {},
     "output_type": "display_data"
    }
   ],
   "source": [
    "sns.catplot(x='education_level',kind=\"count\",hue='target',data=dataset_train,edgecolor=\".6\")\n",
    "dataset_train.groupby(['education_level'])['target'].value_counts(normalize='true')"
   ]
  },
  {
   "cell_type": "markdown",
   "metadata": {},
   "source": [
    "As seen from the distribution, people having Primary School education were not targeted much"
   ]
  },
  {
   "cell_type": "code",
   "execution_count": 29,
   "metadata": {},
   "outputs": [
    {
     "data": {
      "text/plain": [
       "<matplotlib.axes._subplots.AxesSubplot at 0x1edd04acee0>"
      ]
     },
     "execution_count": 29,
     "metadata": {},
     "output_type": "execute_result"
    },
    {
     "data": {
      "image/png": "[encoded data removed]",
      "text/plain": [
       "<Figure size 1800x1080 with 1 Axes>"
      ]
     },
     "metadata": {},
     "output_type": "display_data"
    }
   ],
   "source": [
    "sns.set(rc={'figure.figsize':(25,15)})\n",
    "sns.barplot(x='city',y=\"target\",data=dataset_train)"
   ]
  },
  {
   "cell_type": "code",
   "execution_count": 30,
   "metadata": {},
   "outputs": [
    {
     "data": {
      "text/plain": [
       "<matplotlib.axes._subplots.AxesSubplot at 0x1edd063c5b0>"
      ]
     },
     "execution_count": 30,
     "metadata": {},
     "output_type": "execute_result"
    },
    {
     "data": {
      "image/png": "[encoded data removed]",
      "text/plain": [
       "<Figure size 1800x1080 with 1 Axes>"
      ]
     },
     "metadata": {},
     "output_type": "display_data"
    }
   ],
   "source": [
    "sns.barplot(x='gender',y='target', data=dataset_train)"
   ]
  },
  {
   "cell_type": "markdown",
   "metadata": {},
   "source": [
    "Data distributions of columns like Gender, Education level, Company Type, Company Size, Major Discipline and city Development Index won't effect the outcome of the liekliness of the participant to switch the job and thus can be dropped"
   ]
  },
  {
   "cell_type": "markdown",
   "metadata": {},
   "source": [
    "### Preparation of Training Dataset and Feature Selection"
   ]
  },
  {
   "cell_type": "code",
   "execution_count": 31,
   "metadata": {},
   "outputs": [
    {
     "name": "stdout",
     "output_type": "stream",
     "text": [
      "6334     2\n",
      "17677    2\n",
      "14708    1\n",
      "16067    1\n",
      "4336     0\n",
      "        ..\n",
      "4346     4\n",
      "9005     2\n",
      "9008     1\n",
      "4369     4\n",
      "0        1\n",
      "Name: last_new_job, Length: 19158, dtype: object\n",
      "enrollee_id         int64\n",
      "city               object\n",
      "experience          int32\n",
      "last_new_job       object\n",
      "training_hours      int64\n",
      "target            float64\n",
      "dtype: object\n"
     ]
    },
    {
     "name": "stderr",
     "output_type": "stream",
     "text": [
      "C:\\Users\\91741\\anaconda3\\lib\\site-packages\\pandas\\core\\ops\\array_ops.py:253: FutureWarning: elementwise comparison failed; returning scalar instead, but in the future will perform elementwise comparison\n",
      "  res_values = method(rvalues)\n"
     ]
    }
   ],
   "source": [
    "## Rule 1 : People having experience more than 20 years are not in target audience\n",
    "dataset_train.loc[(dataset_train.experience == '20'),'target'] = 0\n",
    "\n",
    "##Rule 2: People having only primary school level education are not in target audience\n",
    "dataset_train.loc[(dataset_train.education_level == 'Primary School'),'target'] = 0\n",
    "\n",
    "##dataset_train\n",
    "##dataset_train.to_excel(r'C:\\Users\\91741\\OneDrive - purdue.edu\\Desktop\\Rule2_Ver2.xlsx', index = False)\n",
    "\n",
    "\n",
    "print(dataset_train['last_new_job'])\n",
    "\n",
    "##dataset_train.gender = dataset_train.gender.astype('str')\n",
    "##dataset_train.education_level = dataset_train.education_level.astype('str')\n",
    "\n",
    "dataset_train = dataset_train.drop(['gender', 'education_level', 'enrolled_university' , 'relevent_experience', 'company_type' , 'company_size' , 'major_discipline' , 'city_development_index'],axis=1)\n",
    "    \n",
    "print(dataset_train.dtypes)\n",
    "##dataset_train.to_excel (r'C:\\Users\\91741\\OneDrive - purdue.edu\\Desktop\\export_dataframe_3.xlsx', index = False, header=True)"
   ]
  },
  {
   "cell_type": "markdown",
   "metadata": {},
   "source": [
    "### Data Preprocessing and Feature Selection for Test Data"
   ]
  },
  {
   "cell_type": "code",
   "execution_count": 32,
   "metadata": {},
   "outputs": [
    {
     "name": "stdout",
     "output_type": "stream",
     "text": [
      "0       1\n",
      "1       1\n",
      "2       0\n",
      "3       1\n",
      "4       4\n",
      "       ..\n",
      "2124    4\n",
      "2125    2\n",
      "2126    0\n",
      "2127    1\n",
      "2128    2\n",
      "Name: last_new_job, Length: 2129, dtype: object\n"
     ]
    }
   ],
   "source": [
    "##Data Preprocessing for test data\n",
    "\n",
    "dataset_test['city'] = dataset_test['city'].map(lambda x: x.lstrip('city_'))\n",
    "dataset_test.experience = dataset_test.experience.astype(str)\n",
    "dataset_test['experience'] = dataset_test['experience'].map(lambda x: x.lstrip('<'))\n",
    "dataset_test['experience'] = dataset_test['experience'].map(lambda x: x.lstrip('>'))\n",
    "dataset_test.loc[( dataset_test.experience == 'nan'),'experience'] = 0\n",
    "dataset_test.last_new_job = dataset_test.last_new_job.astype(str)\n",
    "dataset_test['last_new_job'] = dataset_test['last_new_job'].map(lambda x: x.lstrip('>'))\n",
    "dataset_test['last_new_job'] = dataset_test['last_new_job'].map(lambda x: x.lstrip('<'))\n",
    "dataset_test.loc[( dataset_test.last_new_job == 'never'),'last_new_job'] = 0\n",
    "dataset_test.loc[( dataset_test.last_new_job == 'nan'),'last_new_job'] = 0\n",
    "\n",
    "print(dataset_test['last_new_job'])\n",
    "\n",
    "dataset_test = dataset_test.drop(['gender', 'education_level', 'enrolled_university' , 'relevent_experience', 'company_type' , 'company_size' , 'major_discipline' , 'city_development_index'],axis=1)\n",
    "\n",
    "\n",
    "##x = dataset_train.iloc[:, :-1].values\n",
    "##y = dataset_train.iloc[-1].values\n",
    "\n",
    "x = dataset_train.iloc[:, :-1].values\n",
    "y = dataset_train.iloc[:, -1].values\n",
    "\n",
    "x_train, x_test, y_train, y_test = train_test_split(x, y, test_size=0.25, random_state=42)\n",
    "\n",
    "#y_test = dataset_test.iloc[:, -1].values"
   ]
  },
  {
   "cell_type": "markdown",
   "metadata": {},
   "source": [
    "### Feature Scaling"
   ]
  },
  {
   "cell_type": "code",
   "execution_count": 33,
   "metadata": {},
   "outputs": [],
   "source": [
    "##Since no categorical encoding done, feature scaling to be applied on all features of the model\n",
    "\n",
    "from sklearn.preprocessing import StandardScaler\n",
    "sc = StandardScaler()\n",
    "x_train= sc.fit_transform(x_train)\n",
    "x_test = sc.transform(x_test)\n"
   ]
  },
  {
   "cell_type": "markdown",
   "metadata": {},
   "source": [
    "### Application of Prediction Models"
   ]
  },
  {
   "cell_type": "markdown",
   "metadata": {},
   "source": [
    "#### 1. Linear Regression"
   ]
  },
  {
   "cell_type": "code",
   "execution_count": 34,
   "metadata": {},
   "outputs": [
    {
     "name": "stdout",
     "output_type": "stream",
     "text": [
      "              precision    recall  f1-score   support\n",
      "\n",
      "         0.0       0.76      1.00      0.86      3632\n",
      "         1.0       0.00      0.00      0.00      1158\n",
      "\n",
      "    accuracy                           0.76      4790\n",
      "   macro avg       0.38      0.50      0.43      4790\n",
      "weighted avg       0.57      0.76      0.65      4790\n",
      "\n"
     ]
    },
    {
     "name": "stderr",
     "output_type": "stream",
     "text": [
      "C:\\Users\\91741\\anaconda3\\lib\\site-packages\\sklearn\\metrics\\_classification.py:1221: UndefinedMetricWarning: Precision and F-score are ill-defined and being set to 0.0 in labels with no predicted samples. Use `zero_division` parameter to control this behavior.\n",
      "  _warn_prf(average, modifier, msg_start, len(result))\n"
     ]
    }
   ],
   "source": [
    "##Logistic regression for Yes/no prediction\n",
    "from sklearn.linear_model import LogisticRegression\n",
    "logistic = LogisticRegression()\n",
    "logistic.fit(x_train,y_train)\n",
    "y_pred = logistic.predict(x_test)\n",
    "print(classification_report(y_test,y_pred))"
   ]
  },
  {
   "cell_type": "markdown",
   "metadata": {},
   "source": [
    "#### 2. Decision Tree"
   ]
  },
  {
   "cell_type": "code",
   "execution_count": 35,
   "metadata": {},
   "outputs": [
    {
     "name": "stdout",
     "output_type": "stream",
     "text": [
      "              precision    recall  f1-score   support\n",
      "\n",
      "         0.0       0.79      0.76      0.78      3632\n",
      "         1.0       0.33      0.37      0.35      1158\n",
      "\n",
      "    accuracy                           0.67      4790\n",
      "   macro avg       0.56      0.56      0.56      4790\n",
      "weighted avg       0.68      0.67      0.67      4790\n",
      "\n"
     ]
    }
   ],
   "source": [
    "##Decision Tree\n",
    "from sklearn.tree import DecisionTreeClassifier\n",
    "tree = DecisionTreeClassifier()\n",
    "tree.fit(x_train, y_train)\n",
    "y_pred_tree = tree.predict(x_test)\n",
    "print(classification_report(y_test, y_pred_tree))"
   ]
  },
  {
   "cell_type": "markdown",
   "metadata": {},
   "source": [
    "#### 3. K Nearest Neighbours"
   ]
  },
  {
   "cell_type": "code",
   "execution_count": 36,
   "metadata": {},
   "outputs": [
    {
     "name": "stdout",
     "output_type": "stream",
     "text": [
      "For K= 1\n",
      "              precision    recall  f1-score   support\n",
      "\n",
      "         0.0       0.77      0.77      0.77      3632\n",
      "         1.0       0.29      0.29      0.29      1158\n",
      "\n",
      "    accuracy                           0.66      4790\n",
      "   macro avg       0.53      0.53      0.53      4790\n",
      "weighted avg       0.66      0.66      0.66      4790\n",
      "\n",
      "For K= 2\n",
      "              precision    recall  f1-score   support\n",
      "\n",
      "         0.0       0.77      0.94      0.84      3632\n",
      "         1.0       0.35      0.11      0.16      1158\n",
      "\n",
      "    accuracy                           0.74      4790\n",
      "   macro avg       0.56      0.52      0.50      4790\n",
      "weighted avg       0.67      0.74      0.68      4790\n",
      "\n",
      "For K= 3\n",
      "              precision    recall  f1-score   support\n",
      "\n",
      "         0.0       0.78      0.85      0.81      3632\n",
      "         1.0       0.34      0.24      0.28      1158\n",
      "\n",
      "    accuracy                           0.70      4790\n",
      "   macro avg       0.56      0.55      0.55      4790\n",
      "weighted avg       0.67      0.70      0.68      4790\n",
      "\n",
      "For K= 4\n",
      "              precision    recall  f1-score   support\n",
      "\n",
      "         0.0       0.77      0.93      0.84      3632\n",
      "         1.0       0.37      0.12      0.18      1158\n",
      "\n",
      "    accuracy                           0.74      4790\n",
      "   macro avg       0.57      0.53      0.51      4790\n",
      "weighted avg       0.67      0.74      0.68      4790\n",
      "\n",
      "For K= 5\n",
      "              precision    recall  f1-score   support\n",
      "\n",
      "         0.0       0.78      0.88      0.83      3632\n",
      "         1.0       0.36      0.21      0.27      1158\n",
      "\n",
      "    accuracy                           0.72      4790\n",
      "   macro avg       0.57      0.55      0.55      4790\n",
      "weighted avg       0.68      0.72      0.69      4790\n",
      "\n",
      "For K= 6\n",
      "              precision    recall  f1-score   support\n",
      "\n",
      "         0.0       0.77      0.94      0.85      3632\n",
      "         1.0       0.41      0.13      0.20      1158\n",
      "\n",
      "    accuracy                           0.74      4790\n",
      "   macro avg       0.59      0.53      0.52      4790\n",
      "weighted avg       0.68      0.74      0.69      4790\n",
      "\n",
      "For K= 7\n",
      "              precision    recall  f1-score   support\n",
      "\n",
      "         0.0       0.78      0.91      0.84      3632\n",
      "         1.0       0.40      0.19      0.26      1158\n",
      "\n",
      "    accuracy                           0.73      4790\n",
      "   macro avg       0.59      0.55      0.55      4790\n",
      "weighted avg       0.69      0.73      0.70      4790\n",
      "\n",
      "For K= 8\n",
      "              precision    recall  f1-score   support\n",
      "\n",
      "         0.0       0.77      0.95      0.85      3632\n",
      "         1.0       0.42      0.12      0.19      1158\n",
      "\n",
      "    accuracy                           0.75      4790\n",
      "   macro avg       0.60      0.53      0.52      4790\n",
      "weighted avg       0.69      0.75      0.69      4790\n",
      "\n",
      "For K= 9\n",
      "              precision    recall  f1-score   support\n",
      "\n",
      "         0.0       0.78      0.92      0.84      3632\n",
      "         1.0       0.40      0.17      0.24      1158\n",
      "\n",
      "    accuracy                           0.74      4790\n",
      "   macro avg       0.59      0.54      0.54      4790\n",
      "weighted avg       0.69      0.74      0.70      4790\n",
      "\n",
      "For K= 10\n",
      "              precision    recall  f1-score   support\n",
      "\n",
      "         0.0       0.77      0.95      0.85      3632\n",
      "         1.0       0.41      0.11      0.17      1158\n",
      "\n",
      "    accuracy                           0.75      4790\n",
      "   macro avg       0.59      0.53      0.51      4790\n",
      "weighted avg       0.68      0.75      0.69      4790\n",
      "\n",
      "[0.6566377  0.66563113 0.67230943 0.6731084  0.67773135 0.6837288\n",
      " 0.68607179 0.68643207 0.68519587 0.68232118]\n",
      "The best accuracy was with 0.6864320666212195 with k= 8\n"
     ]
    }
   ],
   "source": [
    "from sklearn.neighbors import KNeighborsClassifier\n",
    "\n",
    "Ks = 11\n",
    "mean_acc = np.zeros((Ks-1))\n",
    "std_acc = np.zeros((Ks-1))\n",
    "ConfustionMx = [];\n",
    "for n in range(1,Ks):\n",
    "    \n",
    "    #Train Model and Predict  \n",
    "    neigh = KNeighborsClassifier(n_neighbors = n).fit(x_train,y_train)\n",
    "    yhat=neigh.predict(x_test)\n",
    "    mean_acc[n-1] = metrics.precision_score(y_test, yhat,average='weighted')    \n",
    "    std_acc[n-1]=np.std(yhat==y_test)/np.sqrt(yhat.shape[0])\n",
    "    print(\"For K=\",n)\n",
    "    print(classification_report(y_test, yhat))\n",
    "\n",
    "print(mean_acc)\n",
    "print( \"The best accuracy was with\", mean_acc.max(), \"with k=\", mean_acc.argmax()+1) "
   ]
  },
  {
   "cell_type": "markdown",
   "metadata": {},
   "source": [
    "#### 4. Random Forest\n"
   ]
  },
  {
   "cell_type": "code",
   "execution_count": 37,
   "metadata": {},
   "outputs": [
    {
     "name": "stdout",
     "output_type": "stream",
     "text": [
      "              precision    recall  f1-score   support\n",
      "\n",
      "         0.0       0.80      0.92      0.86      3632\n",
      "         1.0       0.54      0.28      0.37      1158\n",
      "\n",
      "    accuracy                           0.77      4790\n",
      "   macro avg       0.67      0.60      0.61      4790\n",
      "weighted avg       0.74      0.77      0.74      4790\n",
      "\n"
     ]
    }
   ],
   "source": [
    "##Random Forest\n",
    "from sklearn.ensemble import RandomForestClassifier\n",
    "forest = RandomForestClassifier()\n",
    "forest.fit(x_train, y_train)\n",
    "y_pred_random = forest.predict(x_test)\n",
    "print(classification_report(y_test, y_pred_random))"
   ]
  },
  {
   "cell_type": "markdown",
   "metadata": {},
   "source": [
    "#### 5. SVM - Support Vector Machines"
   ]
  },
  {
   "cell_type": "code",
   "execution_count": 38,
   "metadata": {},
   "outputs": [
    {
     "name": "stdout",
     "output_type": "stream",
     "text": [
      "              precision    recall  f1-score   support\n",
      "\n",
      "         0.0       0.80      0.92      0.86      3632\n",
      "         1.0       0.54      0.28      0.37      1158\n",
      "\n",
      "    accuracy                           0.77      4790\n",
      "   macro avg       0.67      0.60      0.61      4790\n",
      "weighted avg       0.74      0.77      0.74      4790\n",
      "\n"
     ]
    }
   ],
   "source": [
    "##SVM Classifier\n",
    "from sklearn.svm import SVC\n",
    "svm_classifier = SVC(kernel = 'linear', random_state = 0)\n",
    "svm_classifier.fit(x_train, y_train)\n",
    "y_pred_svm = svm_classifier.predict(x_test)\n",
    "print(classification_report(y_test, y_pred_random))"
   ]
  },
  {
   "cell_type": "markdown",
   "metadata": {},
   "source": [
    "### Applying Random Forest Model on the Test Data to predict target audience for Test Data"
   ]
  },
  {
   "cell_type": "code",
   "execution_count": 39,
   "metadata": {},
   "outputs": [
    {
     "data": {
      "text/html": [
       "<div>\n",
       "<style scoped>\n",
       "    .dataframe tbody tr th:only-of-type {\n",
       "        vertical-align: middle;\n",
       "    }\n",
       "\n",
       "    .dataframe tbody tr th {\n",
       "        vertical-align: top;\n",
       "    }\n",
       "\n",
       "    .dataframe thead th {\n",
       "        text-align: right;\n",
       "    }\n",
       "</style>\n",
       "<table border=\"1\" class=\"dataframe\">\n",
       "  <thead>\n",
       "    <tr style=\"text-align: right;\">\n",
       "      <th></th>\n",
       "      <th>enrollee_id</th>\n",
       "      <th>city</th>\n",
       "      <th>experience</th>\n",
       "      <th>last_new_job</th>\n",
       "      <th>training_hours</th>\n",
       "      <th>Target</th>\n",
       "    </tr>\n",
       "  </thead>\n",
       "  <tbody>\n",
       "    <tr>\n",
       "      <th>0</th>\n",
       "      <td>32403</td>\n",
       "      <td>41</td>\n",
       "      <td>9</td>\n",
       "      <td>1</td>\n",
       "      <td>21</td>\n",
       "      <td>0.0</td>\n",
       "    </tr>\n",
       "    <tr>\n",
       "      <th>1</th>\n",
       "      <td>9858</td>\n",
       "      <td>103</td>\n",
       "      <td>5</td>\n",
       "      <td>1</td>\n",
       "      <td>98</td>\n",
       "      <td>0.0</td>\n",
       "    </tr>\n",
       "    <tr>\n",
       "      <th>2</th>\n",
       "      <td>31806</td>\n",
       "      <td>21</td>\n",
       "      <td>1</td>\n",
       "      <td>0</td>\n",
       "      <td>15</td>\n",
       "      <td>0.0</td>\n",
       "    </tr>\n",
       "    <tr>\n",
       "      <th>3</th>\n",
       "      <td>27385</td>\n",
       "      <td>13</td>\n",
       "      <td>11</td>\n",
       "      <td>1</td>\n",
       "      <td>39</td>\n",
       "      <td>0.0</td>\n",
       "    </tr>\n",
       "    <tr>\n",
       "      <th>4</th>\n",
       "      <td>27724</td>\n",
       "      <td>103</td>\n",
       "      <td>20</td>\n",
       "      <td>4</td>\n",
       "      <td>72</td>\n",
       "      <td>1.0</td>\n",
       "    </tr>\n",
       "    <tr>\n",
       "      <th>...</th>\n",
       "      <td>...</td>\n",
       "      <td>...</td>\n",
       "      <td>...</td>\n",
       "      <td>...</td>\n",
       "      <td>...</td>\n",
       "      <td>...</td>\n",
       "    </tr>\n",
       "    <tr>\n",
       "      <th>2124</th>\n",
       "      <td>1289</td>\n",
       "      <td>103</td>\n",
       "      <td>16</td>\n",
       "      <td>4</td>\n",
       "      <td>15</td>\n",
       "      <td>1.0</td>\n",
       "    </tr>\n",
       "    <tr>\n",
       "      <th>2125</th>\n",
       "      <td>195</td>\n",
       "      <td>136</td>\n",
       "      <td>18</td>\n",
       "      <td>2</td>\n",
       "      <td>30</td>\n",
       "      <td>1.0</td>\n",
       "    </tr>\n",
       "    <tr>\n",
       "      <th>2126</th>\n",
       "      <td>31762</td>\n",
       "      <td>100</td>\n",
       "      <td>3</td>\n",
       "      <td>0</td>\n",
       "      <td>18</td>\n",
       "      <td>0.0</td>\n",
       "    </tr>\n",
       "    <tr>\n",
       "      <th>2127</th>\n",
       "      <td>7873</td>\n",
       "      <td>102</td>\n",
       "      <td>7</td>\n",
       "      <td>1</td>\n",
       "      <td>84</td>\n",
       "      <td>0.0</td>\n",
       "    </tr>\n",
       "    <tr>\n",
       "      <th>2128</th>\n",
       "      <td>12215</td>\n",
       "      <td>102</td>\n",
       "      <td>15</td>\n",
       "      <td>2</td>\n",
       "      <td>11</td>\n",
       "      <td>1.0</td>\n",
       "    </tr>\n",
       "  </tbody>\n",
       "</table>\n",
       "<p>2129 rows × 6 columns</p>\n",
       "</div>"
      ],
      "text/plain": [
       "      enrollee_id city experience last_new_job  training_hours  Target\n",
       "0           32403   41          9            1              21     0.0\n",
       "1            9858  103          5            1              98     0.0\n",
       "2           31806   21          1            0              15     0.0\n",
       "3           27385   13         11            1              39     0.0\n",
       "4           27724  103         20            4              72     1.0\n",
       "...           ...  ...        ...          ...             ...     ...\n",
       "2124         1289  103         16            4              15     1.0\n",
       "2125          195  136         18            2              30     1.0\n",
       "2126        31762  100          3            0              18     0.0\n",
       "2127         7873  102          7            1              84     0.0\n",
       "2128        12215  102         15            2              11     1.0\n",
       "\n",
       "[2129 rows x 6 columns]"
      ]
     },
     "execution_count": 39,
     "metadata": {},
     "output_type": "execute_result"
    }
   ],
   "source": [
    "##Running Test Data on Random Forest Model\n",
    "\n",
    "##dataset_test.to_excel (r'C:\\Users\\91741\\OneDrive - purdue.edu\\Desktop\\export_testdata.xlsx', index = False, header=True)\n",
    "\n",
    "dataset_test['Target'] = forest.predict(dataset_test)\n",
    "dataset_test"
   ]
  },
  {
   "cell_type": "code",
   "execution_count": null,
   "metadata": {},
   "outputs": [],
   "source": []
  }
 ],
 "metadata": {
  "kernelspec": {
   "display_name": "Python 3",
   "language": "python",
   "name": "python3"
  },
  "language_info": {
   "codemirror_mode": {
    "name": "ipython",
    "version": 3
   },
   "file_extension": ".py",
   "mimetype": "text/x-python",
   "name": "python",
   "nbconvert_exporter": "python",
   "pygments_lexer": "ipython3",
   "version": "3.8.3"
  }
 },
 "nbformat": 4,
 "nbformat_minor": 4
}
